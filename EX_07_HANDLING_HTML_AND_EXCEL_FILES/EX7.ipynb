{
 "cells": [
  {
   "cell_type": "code",
   "execution_count": 1,
   "id": "7a5da5e8",
   "metadata": {},
   "outputs": [],
   "source": [
    "import pandas as pd"
   ]
  },
  {
   "cell_type": "code",
   "execution_count": 9,
   "id": "0434e739",
   "metadata": {},
   "outputs": [],
   "source": [
    "TARGET_URL = 'https://en.wikipedia.org/wiki/Indian_Regional_Navigation_Satellite_System'\n",
    "TARGET_TABLE = \"IRNSS-1 series satellites\"\n"
   ]
  },
  {
   "cell_type": "markdown",
   "id": "20b34199",
   "metadata": {},
   "source": [
    "## Getting data"
   ]
  },
  {
   "cell_type": "code",
   "execution_count": 10,
   "id": "9458c3e5",
   "metadata": {},
   "outputs": [],
   "source": [
    "df = pd.read_html(TARGET_URL,match=TARGET_TABLE)\n",
    "df=df[0]"
   ]
  },
  {
   "cell_type": "code",
   "execution_count": 11,
   "id": "b6f8ae79",
   "metadata": {},
   "outputs": [],
   "source": [
    "# formatting datetime\n",
    "df['Launch Date']=pd.to_datetime(df['Launch Date'],format='%d %B %Y')\n",
    "df = df.sort_values(by='Launch Date',ascending=False)\n",
    "df['Launch Date']=df['Launch Date'].apply(lambda x:x.strftime('%d %B %Y'))\n",
    "df.to_excel('result.xlsx',sheet_name='IRNSS Launch',index=False)"
   ]
  },
  {
   "cell_type": "code",
   "execution_count": null,
   "id": "e12ea15b",
   "metadata": {},
   "outputs": [],
   "source": []
  },
  {
   "cell_type": "code",
   "execution_count": null,
   "id": "b18f0f30",
   "metadata": {},
   "outputs": [],
   "source": []
  }
 ],
 "metadata": {
  "kernelspec": {
   "display_name": "Python 3 (ipykernel)",
   "language": "python",
   "name": "python3"
  },
  "language_info": {
   "codemirror_mode": {
    "name": "ipython",
    "version": 3
   },
   "file_extension": ".py",
   "mimetype": "text/x-python",
   "name": "python",
   "nbconvert_exporter": "python",
   "pygments_lexer": "ipython3",
   "version": "3.10.9"
  }
 },
 "nbformat": 4,
 "nbformat_minor": 5
}
