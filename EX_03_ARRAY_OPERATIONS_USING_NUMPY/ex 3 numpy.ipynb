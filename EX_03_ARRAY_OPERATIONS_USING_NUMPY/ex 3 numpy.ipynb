{
 "cells": [
  {
   "cell_type": "markdown",
   "id": "ce53a9ff",
   "metadata": {},
   "source": [
    "# ARRAY OPERATIONS USING NUMPY"
   ]
  },
  {
   "cell_type": "code",
   "execution_count": 1,
   "id": "fcd2aff0",
   "metadata": {},
   "outputs": [],
   "source": [
    "import numpy as np\n"
   ]
  },
  {
   "cell_type": "code",
   "execution_count": 27,
   "id": "d1f7690f",
   "metadata": {},
   "outputs": [],
   "source": [
    "a = np.random.randint(1,10,size=(3,3))\n",
    "b = np.random.randint(1,10,size=(3,3))\n",
    "c = np.random.randint(1,10,size=(2,3))"
   ]
  },
  {
   "cell_type": "code",
   "execution_count": 22,
   "id": "050e006a",
   "metadata": {},
   "outputs": [],
   "source": [
    "def add(m1,m2):\n",
    "    if m1.shape == m2.shape:\n",
    "        return m1+m2\n",
    "    else:\n",
    "        return None\n",
    "    \n",
    "def sub(m1,m2):\n",
    "     if m1.shape == m2.shape:\n",
    "        return m1-m2\n",
    "     else:\n",
    "        return None\n",
    "def mul(m1,m2):\n",
    "    if m1.shape[1] == m2.shape[0]:\n",
    "        return m1 @ m2\n",
    "    else:\n",
    "        return None\n",
    "        \n",
    "def subset(m1,r1,r2,c1,c2):\n",
    "    if r1 < m1.shape[0] and r1 > 0 and c1 >0 and c1 <m1.shape[1]:\n",
    "        return m1[r1:r2,c1:c2]\n",
    "    else:\n",
    "        return m1"
   ]
  },
  {
   "cell_type": "code",
   "execution_count": 23,
   "id": "2af15413",
   "metadata": {},
   "outputs": [
    {
     "data": {
      "text/plain": [
       "array([[ 20, 109, 133],\n",
       "       [ 44,  95, 192],\n",
       "       [ 79, 102,  90]])"
      ]
     },
     "execution_count": 23,
     "metadata": {},
     "output_type": "execute_result"
    }
   ],
   "source": [
    "add(a,b)"
   ]
  },
  {
   "cell_type": "code",
   "execution_count": 24,
   "id": "80e725b7",
   "metadata": {},
   "outputs": [
    {
     "data": {
      "text/plain": [
       "array([[  0,   7,  23],\n",
       "       [ 22, -73,  -6],\n",
       "       [-61,  60,   8]])"
      ]
     },
     "execution_count": 24,
     "metadata": {},
     "output_type": "execute_result"
    }
   ],
   "source": [
    "sub(a,b)"
   ]
  },
  {
   "cell_type": "code",
   "execution_count": 28,
   "id": "b62d00cb",
   "metadata": {},
   "outputs": [
    {
     "data": {
      "text/plain": [
       "array([[75, 69, 75],\n",
       "       [19, 17, 19],\n",
       "       [60, 50, 50]])"
      ]
     },
     "execution_count": 28,
     "metadata": {},
     "output_type": "execute_result"
    }
   ],
   "source": [
    "mul(a,b)"
   ]
  },
  {
   "cell_type": "code",
   "execution_count": 29,
   "id": "3223ea7c",
   "metadata": {},
   "outputs": [],
   "source": [
    "mul(a,c)"
   ]
  },
  {
   "cell_type": "code",
   "execution_count": null,
   "id": "8ee55c0f",
   "metadata": {},
   "outputs": [],
   "source": []
  }
 ],
 "metadata": {
  "kernelspec": {
   "display_name": "Python 3 (ipykernel)",
   "language": "python",
   "name": "python3"
  },
  "language_info": {
   "codemirror_mode": {
    "name": "ipython",
    "version": 3
   },
   "file_extension": ".py",
   "mimetype": "text/x-python",
   "name": "python",
   "nbconvert_exporter": "python",
   "pygments_lexer": "ipython3",
   "version": "3.10.9"
  }
 },
 "nbformat": 4,
 "nbformat_minor": 5
}
