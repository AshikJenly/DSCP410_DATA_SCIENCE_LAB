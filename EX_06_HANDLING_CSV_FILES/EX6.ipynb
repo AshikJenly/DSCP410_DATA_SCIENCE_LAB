{
 "cells": [
  {
   "cell_type": "code",
   "execution_count": 13,
   "id": "aca023c1",
   "metadata": {},
   "outputs": [],
   "source": [
    "import pandas as pd\n",
    "import numpy as np\n",
    "import datetime"
   ]
  },
  {
   "cell_type": "code",
   "execution_count": 10,
   "id": "9777046d",
   "metadata": {},
   "outputs": [],
   "source": [
    "df = pd.read_csv(\"../Dataset/csv_base_sensex_2018to2020.csv\",index_col=None)"
   ]
  },
  {
   "cell_type": "code",
   "execution_count": 11,
   "id": "c8fe6215",
   "metadata": {},
   "outputs": [],
   "source": [
    "df=df.reset_index()\n",
    "df.drop(df.columns[-1],axis=1,inplace=True)\n",
    "df.columns=['Date','Open','High','Low','Close']\n",
    "df['Date']=pd.to_datetime(df['Date'],format='%d-%B-%Y')\n"
   ]
  },
  {
   "cell_type": "code",
   "execution_count": 14,
   "id": "c3a0ceb0",
   "metadata": {},
   "outputs": [],
   "source": [
    "# found min and max \n",
    "start = datetime.datetime.strptime('31-3-2018','%d-%m-%Y')\n",
    "end = datetime.datetime.strptime('1-4-2019','%d-%m-%Y')\n",
    "\n",
    "final=df[(df['Date']>start) & (df['Date']<end)]"
   ]
  },
  {
   "cell_type": "code",
   "execution_count": 15,
   "id": "90dfca2f",
   "metadata": {},
   "outputs": [],
   "source": [
    "final.to_csv('final_sensex.csv')"
   ]
  },
  {
   "cell_type": "code",
   "execution_count": 17,
   "id": "9a1259de",
   "metadata": {},
   "outputs": [
    {
     "name": "stdout",
     "output_type": "stream",
     "text": [
      "High and low sensex is 38989.65 and 32972.56\n"
     ]
    }
   ],
   "source": [
    "print(f\"High and low sensex is {final['High'].max()} and {final['Low'].min()}\")"
   ]
  },
  {
   "cell_type": "code",
   "execution_count": null,
   "id": "58df2ddb",
   "metadata": {},
   "outputs": [],
   "source": []
  },
  {
   "cell_type": "code",
   "execution_count": null,
   "id": "ce798dc1",
   "metadata": {},
   "outputs": [],
   "source": []
  }
 ],
 "metadata": {
  "kernelspec": {
   "display_name": "Python 3 (ipykernel)",
   "language": "python",
   "name": "python3"
  },
  "language_info": {
   "codemirror_mode": {
    "name": "ipython",
    "version": 3
   },
   "file_extension": ".py",
   "mimetype": "text/x-python",
   "name": "python",
   "nbconvert_exporter": "python",
   "pygments_lexer": "ipython3",
   "version": "3.10.9"
  }
 },
 "nbformat": 4,
 "nbformat_minor": 5
}
