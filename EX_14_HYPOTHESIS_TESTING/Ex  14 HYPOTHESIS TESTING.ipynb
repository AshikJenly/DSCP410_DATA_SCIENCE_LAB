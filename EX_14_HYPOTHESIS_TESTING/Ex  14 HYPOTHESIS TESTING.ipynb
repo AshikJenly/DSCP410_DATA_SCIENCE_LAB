{
 "cells": [
  {
   "cell_type": "code",
   "execution_count": 1,
   "id": "8eadd493",
   "metadata": {},
   "outputs": [],
   "source": [
    "from scipy.stats import ttest_1samp\n",
    "import numpy as np"
   ]
  },
  {
   "cell_type": "code",
   "execution_count": 8,
   "id": "7e7ec8f5",
   "metadata": {},
   "outputs": [],
   "source": [
    "def one_sample_ttest(test_data):\n",
    "    height = np.array([165,170,160,154,175,155,167,177,158,178])\n",
    "    print(height)\n",
    "    height_mean = np.mean(height)\n",
    "    print('Mean Height = ', height_mean)\n",
    "    tset,pval = ttest_1samp(height,test_data)\n",
    "\n",
    "    print(f\"p-values are : {pval}\")\n",
    "    if pval< 0.05:\n",
    "        print(\"we are rejecting null hypothesis\")\n",
    "    else:\n",
    "        print(\"we are accepting null hypothesis\")"
   ]
  },
  {
   "cell_type": "code",
   "execution_count": 9,
   "id": "805e3835",
   "metadata": {},
   "outputs": [
    {
     "name": "stdout",
     "output_type": "stream",
     "text": [
      "Enter test value : 120\n",
      "[165 170 160 154 175 155 167 177 158 178]\n",
      "Mean Height =  165.9\n",
      "p-values are : 5.998303653993177e-08\n",
      "we are rejecting null hypothesis\n"
     ]
    }
   ],
   "source": [
    "test_data = int(input(\"Enter test value : \"))\n",
    "one_sample_ttest(test_data)"
   ]
  },
  {
   "cell_type": "code",
   "execution_count": null,
   "id": "63b03399",
   "metadata": {},
   "outputs": [],
   "source": []
  }
 ],
 "metadata": {
  "kernelspec": {
   "display_name": "Python 3 (ipykernel)",
   "language": "python",
   "name": "python3"
  },
  "language_info": {
   "codemirror_mode": {
    "name": "ipython",
    "version": 3
   },
   "file_extension": ".py",
   "mimetype": "text/x-python",
   "name": "python",
   "nbconvert_exporter": "python",
   "pygments_lexer": "ipython3",
   "version": "3.11.2"
  }
 },
 "nbformat": 4,
 "nbformat_minor": 5
}
