{
 "cells": [
  {
   "cell_type": "code",
   "execution_count": 1,
   "id": "d14c10fd",
   "metadata": {},
   "outputs": [],
   "source": [
    "import string"
   ]
  },
  {
   "cell_type": "code",
   "execution_count": 2,
   "id": "893b931a",
   "metadata": {},
   "outputs": [],
   "source": [
    "def cleaned_list(text):\n",
    "    \n",
    "    exclude = set(string.punctuation+string.digits+\"\\'\\\"\")\n",
    "    text = ''.join(ch for ch in text if ch not in exclude)\n",
    "    print(text)\n",
    "    words = text.lower().split()\n",
    "\n",
    "    return words\n"
   ]
  },
  {
   "cell_type": "code",
   "execution_count": 3,
   "id": "b86560dc",
   "metadata": {},
   "outputs": [
    {
     "name": "stdout",
     "output_type": "stream",
     "text": [
      "Enter file path : TxtSample.txt\n",
      "What is a data scientist\n",
      "As a specialty data science is young It grew out of the fields of statistical analysis and data mining The Data Science Journal debuted in  published by the International Council for Science Committee on Data for Science and Technology By  the title of data scientist had emerged and the field quickly took off There has been a shortage of data scientists ever since even though more and more colleges and universities have started offering data science degrees\n",
      "\n",
      "A data scientist’s duties can include developing strategies for analyzing data preparing data for analysis exploring analyzing and visualizing data building models with data using programming languages such as Python and R and deploying models into applications\n",
      "\n",
      "The data scientist doesn’t work solo In fact the most effective data science is done in teams In addition to a data scientist this team might include a business analyst who defines the problem a data engineer who prepares the data and how it is accessed an IT architect who oversees the underlying processes and infrastructure and an application developer who deploys the models or outputs of the analysis into applications and products\n",
      "Enter a wordscientist\n",
      "\n",
      "\n",
      "frequency of the word  \"scientist\" : 4\n"
     ]
    }
   ],
   "source": [
    "if __name__ =='__main__':\n",
    "    text = \"\"\n",
    "    file_name = input(\"Enter file path : \")\n",
    "    \n",
    "    with open(file_name,'r') as file:\n",
    "        text=file.read()\n",
    "       \n",
    "    \n",
    "    cleaned_text = cleaned_list(text)\n",
    "    word = input(\"Enter a word\")\n",
    "    \n",
    "    print(f\"\\n\\nfrequency of the word  \\\"{word}\\\" : {cleaned_text.count(word)}\")"
   ]
  },
  {
   "cell_type": "code",
   "execution_count": null,
   "id": "b4341247",
   "metadata": {},
   "outputs": [],
   "source": []
  }
 ],
 "metadata": {
  "kernelspec": {
   "display_name": "Python 3 (ipykernel)",
   "language": "python",
   "name": "python3"
  },
  "language_info": {
   "codemirror_mode": {
    "name": "ipython",
    "version": 3
   },
   "file_extension": ".py",
   "mimetype": "text/x-python",
   "name": "python",
   "nbconvert_exporter": "python",
   "pygments_lexer": "ipython3",
   "version": "3.11.2"
  }
 },
 "nbformat": 4,
 "nbformat_minor": 5
}
